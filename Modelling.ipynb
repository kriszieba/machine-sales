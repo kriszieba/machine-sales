{
 "cells": [
  {
   "cell_type": "code",
   "execution_count": 70,
   "id": "2735d29a",
   "metadata": {},
   "outputs": [],
   "source": [
    "import pandas as pd\n",
    "import numpy as np\n",
    "import matplotlib.pyplot as plt\n",
    "import sklearn\n",
    "from sklearn.ensemble import RandomForestRegressor\n",
    "from sklearn.metrics import mean_squared_log_error, mean_absolute_error, r2_score\n",
    "from sklearn.model_selection import RandomizedSearchCV\n",
    "from sklearn.model_selection import GridSearchCV\n",
    "pd.options.mode.chained_assignment = None\n",
    "from sklearn.model_selection import train_test_split\n",
    "from sklearn.ensemble import RandomForestRegressor"
   ]
  },
  {
   "cell_type": "code",
   "execution_count": 30,
   "id": "d4909ed7",
   "metadata": {},
   "outputs": [],
   "source": [
    "#load cleaned train and validation dataset\n",
    "df = pd.read_csv('TrainAndValidCleaned.csv', parse_dates=[\"saledate\"], low_memory=False)"
   ]
  },
  {
   "cell_type": "code",
   "execution_count": 31,
   "id": "14060348",
   "metadata": {
    "scrolled": true
   },
   "outputs": [
    {
     "name": "stdout",
     "output_type": "stream",
     "text": [
      "<class 'pandas.core.frame.DataFrame'>\n",
      "RangeIndex: 412698 entries, 0 to 412697\n",
      "Data columns (total 31 columns):\n",
      " #   Column                               Non-Null Count   Dtype         \n",
      "---  ------                               --------------   -----         \n",
      " 0   SalesID                              412698 non-null  int64         \n",
      " 1   SalePrice                            412698 non-null  float64       \n",
      " 2   MachineID                            412698 non-null  int64         \n",
      " 3   ModelID                              412698 non-null  int64         \n",
      " 4   datasource                           412698 non-null  int64         \n",
      " 5   auctioneerID                         412698 non-null  float64       \n",
      " 6   YearMade                             412698 non-null  float64       \n",
      " 7   MachineHoursCurrentMeter             412698 non-null  float64       \n",
      " 8   saledate                             412698 non-null  datetime64[ns]\n",
      " 9   fiModelDesc                          412698 non-null  int64         \n",
      " 10  fiBaseModel                          412698 non-null  int64         \n",
      " 11  fiSecondaryDesc                      412698 non-null  int64         \n",
      " 12  ProductSize                          412698 non-null  int64         \n",
      " 13  fiProductClassDesc                   412698 non-null  int64         \n",
      " 14  state                                412698 non-null  int64         \n",
      " 15  ProductGroup                         412698 non-null  int64         \n",
      " 16  ProductGroupDesc                     412698 non-null  int64         \n",
      " 17  Enclosure                            412698 non-null  int64         \n",
      " 18  Forks                                412698 non-null  int64         \n",
      " 19  Ride_Control                         412698 non-null  int64         \n",
      " 20  Transmission                         412698 non-null  int64         \n",
      " 21  Hydraulics                           412698 non-null  int64         \n",
      " 22  Coupler                              412698 non-null  int64         \n",
      " 23  SaleYear                             412698 non-null  int64         \n",
      " 24  SaleMonth                            412698 non-null  int64         \n",
      " 25  SaleDay                              412698 non-null  int64         \n",
      " 26  SaleDayOfWeek                        412698 non-null  int64         \n",
      " 27  SaleDayOfYear                        412698 non-null  int64         \n",
      " 28  auctioneerID_is_missing              412698 non-null  bool          \n",
      " 29  YearMade_is_missing                  412698 non-null  bool          \n",
      " 30  MachineHoursCurrentMeter_is_missing  412698 non-null  bool          \n",
      "dtypes: bool(3), datetime64[ns](1), float64(4), int64(23)\n",
      "memory usage: 89.3 MB\n"
     ]
    }
   ],
   "source": [
    "df.info()"
   ]
  },
  {
   "cell_type": "code",
   "execution_count": 32,
   "id": "69888727",
   "metadata": {},
   "outputs": [],
   "source": [
    "# In addition we srop saleedata that is in datetime format. This causes trouble during model fittin\n",
    "df = df.drop(['saledate'], axis=1)"
   ]
  },
  {
   "cell_type": "code",
   "execution_count": 33,
   "id": "1750454b",
   "metadata": {},
   "outputs": [],
   "source": [
    "# X are our independent variables (we will predict dependent variable y based on x). \n",
    "X = df.drop([\"SalePrice\"], axis=1)"
   ]
  },
  {
   "cell_type": "code",
   "execution_count": 34,
   "id": "f93749bc",
   "metadata": {},
   "outputs": [],
   "source": [
    "# And the dependent variable\n",
    "y = df[\"SalePrice\"]"
   ]
  },
  {
   "cell_type": "code",
   "execution_count": 35,
   "id": "f6f8d988",
   "metadata": {},
   "outputs": [],
   "source": [
    "train, valid = train_test_split(df, test_size=0.2)\n",
    "X_train, y_train = train.drop([\"SalePrice\"], axis=1), train['SalePrice']\n",
    "X_valid, y_valid = valid.drop([\"SalePrice\"], axis=1), valid['SalePrice']"
   ]
  },
  {
   "cell_type": "code",
   "execution_count": 42,
   "id": "a05dd617",
   "metadata": {
    "scrolled": false
   },
   "outputs": [
    {
     "data": {
      "text/html": [
       "<style>#sk-container-id-4 {color: black;background-color: white;}#sk-container-id-4 pre{padding: 0;}#sk-container-id-4 div.sk-toggleable {background-color: white;}#sk-container-id-4 label.sk-toggleable__label {cursor: pointer;display: block;width: 100%;margin-bottom: 0;padding: 0.3em;box-sizing: border-box;text-align: center;}#sk-container-id-4 label.sk-toggleable__label-arrow:before {content: \"▸\";float: left;margin-right: 0.25em;color: #696969;}#sk-container-id-4 label.sk-toggleable__label-arrow:hover:before {color: black;}#sk-container-id-4 div.sk-estimator:hover label.sk-toggleable__label-arrow:before {color: black;}#sk-container-id-4 div.sk-toggleable__content {max-height: 0;max-width: 0;overflow: hidden;text-align: left;background-color: #f0f8ff;}#sk-container-id-4 div.sk-toggleable__content pre {margin: 0.2em;color: black;border-radius: 0.25em;background-color: #f0f8ff;}#sk-container-id-4 input.sk-toggleable__control:checked~div.sk-toggleable__content {max-height: 200px;max-width: 100%;overflow: auto;}#sk-container-id-4 input.sk-toggleable__control:checked~label.sk-toggleable__label-arrow:before {content: \"▾\";}#sk-container-id-4 div.sk-estimator input.sk-toggleable__control:checked~label.sk-toggleable__label {background-color: #d4ebff;}#sk-container-id-4 div.sk-label input.sk-toggleable__control:checked~label.sk-toggleable__label {background-color: #d4ebff;}#sk-container-id-4 input.sk-hidden--visually {border: 0;clip: rect(1px 1px 1px 1px);clip: rect(1px, 1px, 1px, 1px);height: 1px;margin: -1px;overflow: hidden;padding: 0;position: absolute;width: 1px;}#sk-container-id-4 div.sk-estimator {font-family: monospace;background-color: #f0f8ff;border: 1px dotted black;border-radius: 0.25em;box-sizing: border-box;margin-bottom: 0.5em;}#sk-container-id-4 div.sk-estimator:hover {background-color: #d4ebff;}#sk-container-id-4 div.sk-parallel-item::after {content: \"\";width: 100%;border-bottom: 1px solid gray;flex-grow: 1;}#sk-container-id-4 div.sk-label:hover label.sk-toggleable__label {background-color: #d4ebff;}#sk-container-id-4 div.sk-serial::before {content: \"\";position: absolute;border-left: 1px solid gray;box-sizing: border-box;top: 0;bottom: 0;left: 50%;z-index: 0;}#sk-container-id-4 div.sk-serial {display: flex;flex-direction: column;align-items: center;background-color: white;padding-right: 0.2em;padding-left: 0.2em;position: relative;}#sk-container-id-4 div.sk-item {position: relative;z-index: 1;}#sk-container-id-4 div.sk-parallel {display: flex;align-items: stretch;justify-content: center;background-color: white;position: relative;}#sk-container-id-4 div.sk-item::before, #sk-container-id-4 div.sk-parallel-item::before {content: \"\";position: absolute;border-left: 1px solid gray;box-sizing: border-box;top: 0;bottom: 0;left: 50%;z-index: -1;}#sk-container-id-4 div.sk-parallel-item {display: flex;flex-direction: column;z-index: 1;position: relative;background-color: white;}#sk-container-id-4 div.sk-parallel-item:first-child::after {align-self: flex-end;width: 50%;}#sk-container-id-4 div.sk-parallel-item:last-child::after {align-self: flex-start;width: 50%;}#sk-container-id-4 div.sk-parallel-item:only-child::after {width: 0;}#sk-container-id-4 div.sk-dashed-wrapped {border: 1px dashed gray;margin: 0 0.4em 0.5em 0.4em;box-sizing: border-box;padding-bottom: 0.4em;background-color: white;}#sk-container-id-4 div.sk-label label {font-family: monospace;font-weight: bold;display: inline-block;line-height: 1.2em;}#sk-container-id-4 div.sk-label-container {text-align: center;}#sk-container-id-4 div.sk-container {/* jupyter's `normalize.less` sets `[hidden] { display: none; }` but bootstrap.min.css set `[hidden] { display: none !important; }` so we also need the `!important` here to be able to override the default hidden behavior on the sphinx rendered scikit-learn.org. See: https://github.com/scikit-learn/scikit-learn/issues/21755 */display: inline-block !important;position: relative;}#sk-container-id-4 div.sk-text-repr-fallback {display: none;}</style><div id=\"sk-container-id-4\" class=\"sk-top-container\"><div class=\"sk-text-repr-fallback\"><pre>RandomForestRegressor(n_estimators=30, random_state=42)</pre><b>In a Jupyter environment, please rerun this cell to show the HTML representation or trust the notebook. <br />On GitHub, the HTML representation is unable to render, please try loading this page with nbviewer.org.</b></div><div class=\"sk-container\" hidden><div class=\"sk-item\"><div class=\"sk-estimator sk-toggleable\"><input class=\"sk-toggleable__control sk-hidden--visually\" id=\"sk-estimator-id-4\" type=\"checkbox\" checked><label for=\"sk-estimator-id-4\" class=\"sk-toggleable__label sk-toggleable__label-arrow\">RandomForestRegressor</label><div class=\"sk-toggleable__content\"><pre>RandomForestRegressor(n_estimators=30, random_state=42)</pre></div></div></div></div></div>"
      ],
      "text/plain": [
       "RandomForestRegressor(n_estimators=30, random_state=42)"
      ]
     },
     "execution_count": 42,
     "metadata": {},
     "output_type": "execute_result"
    }
   ],
   "source": [
    "# n_estimators, default=100. The number of trees in the forest.\n",
    "# Popular integer random seeds are 0 and 42\n",
    "model = RandomForestRegressor(n_estimators=30, random_state=42)\n",
    "model.fit(X_train, y_train)"
   ]
  },
  {
   "cell_type": "markdown",
   "id": "6e21d02a",
   "metadata": {},
   "source": [
    "### Scoring"
   ]
  },
  {
   "cell_type": "markdown",
   "id": "bf7b015c",
   "metadata": {},
   "source": [
    "It is different from classification that involves predicting a class label. Unlike classification, you cannot use classification accuracy to evaluate the predictions made by a regression model. Accuracy (e.g. classification accuracy) is a measure for classification, not regression. We cannot calculate accuracy for a regression model. There are three error metrics that are commonly used for evaluating and reporting the performance of a regression model; they are:\n",
    "\n",
    "- Mean Squared Error (MSE). # This has the effect of “punishing” models more for larger errors when MSE is used as a loss function. It also has the effect of “punishing” models by inflating the average error score when used as a metric.\n",
    "- RMSLE\n",
    "- R2 (r2 defined as the proportion of the variance in the dependent variable that is predictable from the independent variable(s).Another definition is “(total variance explained by model) / total variance.” So if it is 100%, the two variables are perfectly correlated, i.e., with no variance at all. A low value would show a low level of correlation, meaning a regression model that is not valid, but not in all cases.)"
   ]
  },
  {
   "cell_type": "code",
   "execution_count": 72,
   "id": "900409c5",
   "metadata": {
    "scrolled": true
   },
   "outputs": [
    {
     "name": "stdout",
     "output_type": "stream",
     "text": [
      "MSE: 52267993.11288474\n",
      "RMSLE: 0.21839876041837653\n",
      "R2 score: 0.9014029981377346\n"
     ]
    }
   ],
   "source": [
    "y_true = y_valid\n",
    "y_pred = model.predict(X_valid)\n",
    "\n",
    "print('MSE:', sklearn.metrics.mean_squared_error(y_true, y_pred, squared=True))\n",
    "print('RMSLE:', np.sqrt(mean_squared_log_error(y_true,y_pred)))\n",
    "print('R2 score:', r2_score(y_true,y_pred))"
   ]
  },
  {
   "cell_type": "code",
   "execution_count": 73,
   "id": "a540c2f1",
   "metadata": {},
   "outputs": [
    {
     "name": "stdout",
     "output_type": "stream",
     "text": [
      "MSE: 7921745.127075335\n",
      "RMSLE: 0.09189641930693278\n",
      "R2 score: 0.9852452447876656\n"
     ]
    }
   ],
   "source": [
    "# Just for curiosity we can check what is the performance on training set\n",
    "y_true = y_train\n",
    "y_pred = model.predict(X_train)\n",
    "\n",
    "print('MSE:', sklearn.metrics.mean_squared_error(y_true, y_pred, squared=True))\n",
    "print('RMSLE:', np.sqrt(mean_squared_log_error(y_true,y_pred)))\n",
    "print('R2 score:', r2_score(y_true,y_pred))"
   ]
  },
  {
   "cell_type": "markdown",
   "id": "acc8f76b",
   "metadata": {},
   "source": [
    "### Importance of features"
   ]
  },
  {
   "cell_type": "code",
   "execution_count": 78,
   "id": "9c01e639",
   "metadata": {},
   "outputs": [],
   "source": [
    "# Helper function for plotting feature importance\n",
    "def plot_features(columns, importances, n=30):\n",
    "    df = (pd.DataFrame({\"features\":columns,\n",
    "                        \"features_importances\": importances})\n",
    "          .sort_values(\"features_importances\",ascending=False)\n",
    "          .reset_index(drop=True))\n",
    "    \n",
    "    # Plot the dataframe we created\n",
    "    fig, ax = plt.subplots()\n",
    "    ax.barh(df[\"features\"][:n], df[\"features_importances\"][:n])\n",
    "    ax.set_ylabel(\"Features\")\n",
    "    ax.set_xlabel(\"Features Importance\")\n",
    "    ax.invert_yaxis()"
   ]
  },
  {
   "cell_type": "code",
   "execution_count": 81,
   "id": "8d212636",
   "metadata": {},
   "outputs": [
    {
     "data": {
      "image/png": "[encoded data removed]",
      "text/plain": [
       "<Figure size 432x288 with 1 Axes>"
      ]
     },
     "metadata": {
      "needs_background": "light"
     },
     "output_type": "display_data"
    }
   ],
   "source": [
    "plot_features(X_train.columns, model.feature_importances_,10)"
   ]
  },
  {
   "cell_type": "code",
   "execution_count": null,
   "id": "4d8f00d5",
   "metadata": {},
   "outputs": [],
   "source": []
  }
 ],
 "metadata": {
  "kernelspec": {
   "display_name": "Python 3 (ipykernel)",
   "language": "python",
   "name": "python3"
  },
  "language_info": {
   "codemirror_mode": {
    "name": "ipython",
    "version": 3
   },
   "file_extension": ".py",
   "mimetype": "text/x-python",
   "name": "python",
   "nbconvert_exporter": "python",
   "pygments_lexer": "ipython3",
   "version": "3.10.4"
  }
 },
 "nbformat": 4,
 "nbformat_minor": 5
}
