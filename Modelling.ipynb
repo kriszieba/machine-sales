{
 "cells": [
  {
   "cell_type": "code",
   "execution_count": 96,
   "id": "2f733141",
   "metadata": {},
   "outputs": [],
   "source": [
    "import pandas as pd\n",
    "import numpy as np\n",
    "import matplotlib.pyplot as plt\n",
    "import sklearn\n",
    "from sklearn.ensemble import RandomForestRegressor\n",
    "from sklearn.metrics import mean_squared_log_error, mean_absolute_error, r2_score\n",
    "from sklearn.model_selection import RandomizedSearchCV\n",
    "from sklearn.model_selection import GridSearchCV\n",
    "pd.options.mode.chained_assignment = None\n",
    "from sklearn.model_selection import train_test_split\n",
    "from sklearn.ensemble import RandomForestRegressor\n",
    "import seaborn as sns\n",
    "import pickle"
   ]
  },
  {
   "cell_type": "code",
   "execution_count": 44,
   "id": "ee7390a9",
   "metadata": {},
   "outputs": [],
   "source": [
    "#load cleaned train and validation dataset\n",
    "df = pd.read_csv('TrainAndValidCleaned.csv', parse_dates=[\"saledate\"], low_memory=False)"
   ]
  },
  {
   "cell_type": "code",
   "execution_count": 45,
   "id": "fb2cec85",
   "metadata": {
    "scrolled": true
   },
   "outputs": [
    {
     "name": "stdout",
     "output_type": "stream",
     "text": [
      "<class 'pandas.core.frame.DataFrame'>\n",
      "RangeIndex: 412698 entries, 0 to 412697\n",
      "Data columns (total 31 columns):\n",
      " #   Column                               Non-Null Count   Dtype         \n",
      "---  ------                               --------------   -----         \n",
      " 0   SalesID                              412698 non-null  int64         \n",
      " 1   SalePrice                            412698 non-null  float64       \n",
      " 2   MachineID                            412698 non-null  int64         \n",
      " 3   ModelID                              412698 non-null  int64         \n",
      " 4   datasource                           412698 non-null  int64         \n",
      " 5   auctioneerID                         412698 non-null  float64       \n",
      " 6   YearMade                             412698 non-null  float64       \n",
      " 7   MachineHoursCurrentMeter             412698 non-null  float64       \n",
      " 8   saledate                             412698 non-null  datetime64[ns]\n",
      " 9   fiModelDesc                          412698 non-null  int64         \n",
      " 10  fiBaseModel                          412698 non-null  int64         \n",
      " 11  fiSecondaryDesc                      412698 non-null  int64         \n",
      " 12  ProductSize                          412698 non-null  int64         \n",
      " 13  fiProductClassDesc                   412698 non-null  int64         \n",
      " 14  state                                412698 non-null  int64         \n",
      " 15  ProductGroup                         412698 non-null  int64         \n",
      " 16  ProductGroupDesc                     412698 non-null  int64         \n",
      " 17  Enclosure                            412698 non-null  int64         \n",
      " 18  Forks                                412698 non-null  int64         \n",
      " 19  Ride_Control                         412698 non-null  int64         \n",
      " 20  Transmission                         412698 non-null  int64         \n",
      " 21  Hydraulics                           412698 non-null  int64         \n",
      " 22  Coupler                              412698 non-null  int64         \n",
      " 23  SaleYear                             412698 non-null  int64         \n",
      " 24  SaleMonth                            412698 non-null  int64         \n",
      " 25  SaleDay                              412698 non-null  int64         \n",
      " 26  SaleDayOfWeek                        412698 non-null  int64         \n",
      " 27  SaleDayOfYear                        412698 non-null  int64         \n",
      " 28  auctioneerID_is_missing              412698 non-null  bool          \n",
      " 29  YearMade_is_missing                  412698 non-null  bool          \n",
      " 30  MachineHoursCurrentMeter_is_missing  412698 non-null  bool          \n",
      "dtypes: bool(3), datetime64[ns](1), float64(4), int64(23)\n",
      "memory usage: 89.3 MB\n"
     ]
    }
   ],
   "source": [
    "df.info()"
   ]
  },
  {
   "cell_type": "code",
   "execution_count": 46,
   "id": "8ffff4fa",
   "metadata": {},
   "outputs": [],
   "source": [
    "# First let's drop some columns that will not bring us any value to the model.\n",
    "df = df.drop(['auctioneerID_is_missing', 'YearMade_is_missing', 'MachineHoursCurrentMeter_is_missing'], axis=1)\n",
    "# In addition we drop saleedata that is in datetime format. This causes trouble during model fitting. We have this information in SaleX columns \n",
    "df = df.drop(['saledate'], axis=1)"
   ]
  },
  {
   "cell_type": "code",
   "execution_count": 47,
   "id": "09e59a56",
   "metadata": {},
   "outputs": [],
   "source": [
    "# X are our independent variables (we will predict dependent variable y based on x). \n",
    "X = df.drop([\"SalePrice\"], axis=1)\n",
    "# And the dependent variable\n",
    "y = df[\"SalePrice\"]"
   ]
  },
  {
   "cell_type": "code",
   "execution_count": 48,
   "id": "1913957b",
   "metadata": {},
   "outputs": [],
   "source": [
    "train, valid = train_test_split(df, test_size=0.2)\n",
    "X_train, y_train = train.drop([\"SalePrice\"], axis=1), train['SalePrice']\n",
    "X_valid, y_valid = valid.drop([\"SalePrice\"], axis=1), valid['SalePrice']"
   ]
  },
  {
   "cell_type": "code",
   "execution_count": 49,
   "id": "2e86b7b4",
   "metadata": {
    "scrolled": false
   },
   "outputs": [
    {
     "data": {
      "text/html": [
       "<style>#sk-container-id-2 {color: black;background-color: white;}#sk-container-id-2 pre{padding: 0;}#sk-container-id-2 div.sk-toggleable {background-color: white;}#sk-container-id-2 label.sk-toggleable__label {cursor: pointer;display: block;width: 100%;margin-bottom: 0;padding: 0.3em;box-sizing: border-box;text-align: center;}#sk-container-id-2 label.sk-toggleable__label-arrow:before {content: \"▸\";float: left;margin-right: 0.25em;color: #696969;}#sk-container-id-2 label.sk-toggleable__label-arrow:hover:before {color: black;}#sk-container-id-2 div.sk-estimator:hover label.sk-toggleable__label-arrow:before {color: black;}#sk-container-id-2 div.sk-toggleable__content {max-height: 0;max-width: 0;overflow: hidden;text-align: left;background-color: #f0f8ff;}#sk-container-id-2 div.sk-toggleable__content pre {margin: 0.2em;color: black;border-radius: 0.25em;background-color: #f0f8ff;}#sk-container-id-2 input.sk-toggleable__control:checked~div.sk-toggleable__content {max-height: 200px;max-width: 100%;overflow: auto;}#sk-container-id-2 input.sk-toggleable__control:checked~label.sk-toggleable__label-arrow:before {content: \"▾\";}#sk-container-id-2 div.sk-estimator input.sk-toggleable__control:checked~label.sk-toggleable__label {background-color: #d4ebff;}#sk-container-id-2 div.sk-label input.sk-toggleable__control:checked~label.sk-toggleable__label {background-color: #d4ebff;}#sk-container-id-2 input.sk-hidden--visually {border: 0;clip: rect(1px 1px 1px 1px);clip: rect(1px, 1px, 1px, 1px);height: 1px;margin: -1px;overflow: hidden;padding: 0;position: absolute;width: 1px;}#sk-container-id-2 div.sk-estimator {font-family: monospace;background-color: #f0f8ff;border: 1px dotted black;border-radius: 0.25em;box-sizing: border-box;margin-bottom: 0.5em;}#sk-container-id-2 div.sk-estimator:hover {background-color: #d4ebff;}#sk-container-id-2 div.sk-parallel-item::after {content: \"\";width: 100%;border-bottom: 1px solid gray;flex-grow: 1;}#sk-container-id-2 div.sk-label:hover label.sk-toggleable__label {background-color: #d4ebff;}#sk-container-id-2 div.sk-serial::before {content: \"\";position: absolute;border-left: 1px solid gray;box-sizing: border-box;top: 0;bottom: 0;left: 50%;z-index: 0;}#sk-container-id-2 div.sk-serial {display: flex;flex-direction: column;align-items: center;background-color: white;padding-right: 0.2em;padding-left: 0.2em;position: relative;}#sk-container-id-2 div.sk-item {position: relative;z-index: 1;}#sk-container-id-2 div.sk-parallel {display: flex;align-items: stretch;justify-content: center;background-color: white;position: relative;}#sk-container-id-2 div.sk-item::before, #sk-container-id-2 div.sk-parallel-item::before {content: \"\";position: absolute;border-left: 1px solid gray;box-sizing: border-box;top: 0;bottom: 0;left: 50%;z-index: -1;}#sk-container-id-2 div.sk-parallel-item {display: flex;flex-direction: column;z-index: 1;position: relative;background-color: white;}#sk-container-id-2 div.sk-parallel-item:first-child::after {align-self: flex-end;width: 50%;}#sk-container-id-2 div.sk-parallel-item:last-child::after {align-self: flex-start;width: 50%;}#sk-container-id-2 div.sk-parallel-item:only-child::after {width: 0;}#sk-container-id-2 div.sk-dashed-wrapped {border: 1px dashed gray;margin: 0 0.4em 0.5em 0.4em;box-sizing: border-box;padding-bottom: 0.4em;background-color: white;}#sk-container-id-2 div.sk-label label {font-family: monospace;font-weight: bold;display: inline-block;line-height: 1.2em;}#sk-container-id-2 div.sk-label-container {text-align: center;}#sk-container-id-2 div.sk-container {/* jupyter's `normalize.less` sets `[hidden] { display: none; }` but bootstrap.min.css set `[hidden] { display: none !important; }` so we also need the `!important` here to be able to override the default hidden behavior on the sphinx rendered scikit-learn.org. See: https://github.com/scikit-learn/scikit-learn/issues/21755 */display: inline-block !important;position: relative;}#sk-container-id-2 div.sk-text-repr-fallback {display: none;}</style><div id=\"sk-container-id-2\" class=\"sk-top-container\"><div class=\"sk-text-repr-fallback\"><pre>RandomForestRegressor(n_estimators=30, random_state=42)</pre><b>In a Jupyter environment, please rerun this cell to show the HTML representation or trust the notebook. <br />On GitHub, the HTML representation is unable to render, please try loading this page with nbviewer.org.</b></div><div class=\"sk-container\" hidden><div class=\"sk-item\"><div class=\"sk-estimator sk-toggleable\"><input class=\"sk-toggleable__control sk-hidden--visually\" id=\"sk-estimator-id-2\" type=\"checkbox\" checked><label for=\"sk-estimator-id-2\" class=\"sk-toggleable__label sk-toggleable__label-arrow\">RandomForestRegressor</label><div class=\"sk-toggleable__content\"><pre>RandomForestRegressor(n_estimators=30, random_state=42)</pre></div></div></div></div></div>"
      ],
      "text/plain": [
       "RandomForestRegressor(n_estimators=30, random_state=42)"
      ]
     },
     "execution_count": 49,
     "metadata": {},
     "output_type": "execute_result"
    }
   ],
   "source": [
    "# n_estimators, default=100. The number of trees in the forest.\n",
    "# Popular integer random seeds are 0 and 42\n",
    "model = RandomForestRegressor(n_estimators=30, random_state=42)\n",
    "model.fit(X_train, y_train)"
   ]
  },
  {
   "cell_type": "markdown",
   "id": "c28f6b30",
   "metadata": {},
   "source": [
    "### Scoring"
   ]
  },
  {
   "cell_type": "markdown",
   "id": "240c66f6",
   "metadata": {},
   "source": [
    "Unlike classification, one cannot use classification accuracy to evaluate the predictions made by a regression model. We cannot calculate accuracy for a regression model. There are three error metrics that are commonly used for evaluating and reporting the performance of a regression model; they are:\n",
    "\n",
    "- Mean Squared Error (MSE). # This has the effect of “punishing” models more for larger errors when MSE is used as a loss function. It also has the effect of “punishing” models by inflating the average error score when used as a metric.\n",
    "- RMSLE\n",
    "- R2 (r2 defined as the proportion of the variance in the dependent variable that is predictable from the independent variable(s).Another definition is “(total variance explained by model) / total variance.” So if it is 100%, the two variables are perfectly correlated, i.e., with no variance at all. A low value would show a low level of correlation, meaning a regression model that is not valid, but not in all cases.)"
   ]
  },
  {
   "cell_type": "code",
   "execution_count": 50,
   "id": "5382bf8f",
   "metadata": {
    "scrolled": true
   },
   "outputs": [
    {
     "name": "stdout",
     "output_type": "stream",
     "text": [
      "MSE: 53159818.05036605\n",
      "RMSLE: 0.22014493980163943\n",
      "R2 score: 0.9017261589712638\n"
     ]
    }
   ],
   "source": [
    "y_true = y_valid\n",
    "y_pred = model.predict(X_valid)\n",
    "\n",
    "print('MSE:', sklearn.metrics.mean_squared_error(y_true, y_pred, squared=True))\n",
    "print('RMSLE:', np.sqrt(mean_squared_log_error(y_true,y_pred)))\n",
    "print('R2 score:', r2_score(y_true,y_pred))"
   ]
  },
  {
   "cell_type": "code",
   "execution_count": 51,
   "id": "06c2826d",
   "metadata": {},
   "outputs": [
    {
     "name": "stdout",
     "output_type": "stream",
     "text": [
      "MSE: 7915051.87132885\n",
      "RMSLE: 0.09199601140789063\n",
      "R2 score: 0.9851830396242004\n"
     ]
    }
   ],
   "source": [
    "# Just for curiosity we can check what is the performance on training set\n",
    "y_true = y_train\n",
    "y_pred = model.predict(X_train)\n",
    "\n",
    "print('MSE:', sklearn.metrics.mean_squared_error(y_true, y_pred, squared=True))\n",
    "print('RMSLE:', np.sqrt(mean_squared_log_error(y_true,y_pred)))\n",
    "print('R2 score:', r2_score(y_true,y_pred))"
   ]
  },
  {
   "cell_type": "markdown",
   "id": "76e2ae6d",
   "metadata": {},
   "source": [
    "### Importance of features"
   ]
  },
  {
   "cell_type": "markdown",
   "id": "a0ffde26",
   "metadata": {},
   "source": [
    "First let's check if some features are correlated with each other. These which are correlated should be dropped because they dont breing any value to the model"
   ]
  },
  {
   "cell_type": "code",
   "execution_count": null,
   "id": "882bd12d",
   "metadata": {
    "scrolled": true
   },
   "outputs": [],
   "source": [
    "corr = df.corr()\n",
    "sns.set(rc={'figure.figsize':(20,15)})\n",
    "ax = sns.heatmap(\n",
    "    corr, \n",
    "    vmin=-1, vmax=1, center=0,\n",
    "    cmap=sns.diverging_palette(20, 220, n=200),\n",
    "    square=True,\n",
    "    annot=True\n",
    ")\n",
    "ax.set_xticklabels(\n",
    "    ax.get_xticklabels(),\n",
    "    rotation=45,\n",
    "    horizontalalignment='right'\n",
    ");"
   ]
  },
  {
   "cell_type": "code",
   "execution_count": 53,
   "id": "f0d3390c",
   "metadata": {},
   "outputs": [],
   "source": [
    "# We can easily drop: 'ProductGroupDesc', 'fiModelDesc'"
   ]
  },
  {
   "cell_type": "code",
   "execution_count": 59,
   "id": "277cd9ed",
   "metadata": {
    "scrolled": true
   },
   "outputs": [
    {
     "name": "stdout",
     "output_type": "stream",
     "text": [
      "MSE: 53307262.06102773\n",
      "RMSLE: 0.22044947763065745\n",
      "R2 score: 0.9014535867579677\n"
     ]
    }
   ],
   "source": [
    "features_to_drop = ['ProductGroupDesc', 'fiModelDesc', 'SalePrice'] # in addition need to drop the dependent variable\n",
    "# Let's see how feature removal impacts the model performance\n",
    "X_train, y_train = train.drop(features_to_drop, axis=1), train['SalePrice']\n",
    "X_valid, y_valid = valid.drop(features_to_drop, axis=1), valid['SalePrice']\n",
    "\n",
    "# We train once again\n",
    "model = RandomForestRegressor(n_estimators=30, random_state=42)\n",
    "model.fit(X_train, y_train)\n",
    "\n",
    "# And measure the performance\n",
    "y_true = y_valid\n",
    "y_pred = model.predict(X_valid)\n",
    "\n",
    "print('MSE:', sklearn.metrics.mean_squared_error(y_true, y_pred, squared=True))\n",
    "print('RMSLE:', np.sqrt(mean_squared_log_error(y_true,y_pred)))\n",
    "print('R2 score:', r2_score(y_true,y_pred))"
   ]
  },
  {
   "cell_type": "markdown",
   "id": "8ad421b9",
   "metadata": {},
   "source": [
    "R2 score was decreased only by 0.0003 so it is reasonable to drop these columns.\n",
    "Now let's see how important are model features"
   ]
  },
  {
   "cell_type": "code",
   "execution_count": 60,
   "id": "0d4f37dc",
   "metadata": {},
   "outputs": [],
   "source": [
    "# Helper function for plotting feature importance\n",
    "def plot_features(columns, importances, n=30):\n",
    "    df = (pd.DataFrame({\"features\":columns,\n",
    "                        \"features_importances\": importances})\n",
    "          .sort_values(\"features_importances\",ascending=False)\n",
    "          .reset_index(drop=True))\n",
    "    \n",
    "    # Plot the dataframe we created\n",
    "    fig, ax = plt.subplots()\n",
    "    ax.barh(df[\"features\"][:n], df[\"features_importances\"][:n])\n",
    "    ax.set_ylabel(\"Features\")\n",
    "    ax.set_xlabel(\"Features Importance\")\n",
    "    ax.invert_yaxis()"
   ]
  },
  {
   "cell_type": "code",
   "execution_count": 61,
   "id": "6afcbe63",
   "metadata": {},
   "outputs": [
    {
     "data": {
      "image/png": "[encoded data removed]",
      "text/plain": [
       "<Figure size 1440x1080 with 1 Axes>"
      ]
     },
     "metadata": {},
     "output_type": "display_data"
    }
   ],
   "source": [
    "plot_features(X_train.columns, model.feature_importances_,30)"
   ]
  },
  {
   "cell_type": "code",
   "execution_count": 65,
   "id": "edd3925c",
   "metadata": {},
   "outputs": [],
   "source": [
    "# Let's make an experiment now. Let's drop some less important features and see the results. \n",
    "# Despite 'SalesID' is one of the most important feature it is hard to figure out this value for a potential user. Therefore it might be worthwile to drop\n",
    "important_cols = ['ProductSize', 'YearMade', 'fiBaseModel', 'fiSecondaryDesc', 'SaleYear', 'fiProductClassDesc']\n",
    "X_train, y_train = train[important_cols], train['SalePrice']\n",
    "X_valid, y_valid = valid[important_cols], valid['SalePrice']"
   ]
  },
  {
   "cell_type": "code",
   "execution_count": 66,
   "id": "725fba2a",
   "metadata": {},
   "outputs": [
    {
     "data": {
      "text/html": [
       "<style>#sk-container-id-4 {color: black;background-color: white;}#sk-container-id-4 pre{padding: 0;}#sk-container-id-4 div.sk-toggleable {background-color: white;}#sk-container-id-4 label.sk-toggleable__label {cursor: pointer;display: block;width: 100%;margin-bottom: 0;padding: 0.3em;box-sizing: border-box;text-align: center;}#sk-container-id-4 label.sk-toggleable__label-arrow:before {content: \"▸\";float: left;margin-right: 0.25em;color: #696969;}#sk-container-id-4 label.sk-toggleable__label-arrow:hover:before {color: black;}#sk-container-id-4 div.sk-estimator:hover label.sk-toggleable__label-arrow:before {color: black;}#sk-container-id-4 div.sk-toggleable__content {max-height: 0;max-width: 0;overflow: hidden;text-align: left;background-color: #f0f8ff;}#sk-container-id-4 div.sk-toggleable__content pre {margin: 0.2em;color: black;border-radius: 0.25em;background-color: #f0f8ff;}#sk-container-id-4 input.sk-toggleable__control:checked~div.sk-toggleable__content {max-height: 200px;max-width: 100%;overflow: auto;}#sk-container-id-4 input.sk-toggleable__control:checked~label.sk-toggleable__label-arrow:before {content: \"▾\";}#sk-container-id-4 div.sk-estimator input.sk-toggleable__control:checked~label.sk-toggleable__label {background-color: #d4ebff;}#sk-container-id-4 div.sk-label input.sk-toggleable__control:checked~label.sk-toggleable__label {background-color: #d4ebff;}#sk-container-id-4 input.sk-hidden--visually {border: 0;clip: rect(1px 1px 1px 1px);clip: rect(1px, 1px, 1px, 1px);height: 1px;margin: -1px;overflow: hidden;padding: 0;position: absolute;width: 1px;}#sk-container-id-4 div.sk-estimator {font-family: monospace;background-color: #f0f8ff;border: 1px dotted black;border-radius: 0.25em;box-sizing: border-box;margin-bottom: 0.5em;}#sk-container-id-4 div.sk-estimator:hover {background-color: #d4ebff;}#sk-container-id-4 div.sk-parallel-item::after {content: \"\";width: 100%;border-bottom: 1px solid gray;flex-grow: 1;}#sk-container-id-4 div.sk-label:hover label.sk-toggleable__label {background-color: #d4ebff;}#sk-container-id-4 div.sk-serial::before {content: \"\";position: absolute;border-left: 1px solid gray;box-sizing: border-box;top: 0;bottom: 0;left: 50%;z-index: 0;}#sk-container-id-4 div.sk-serial {display: flex;flex-direction: column;align-items: center;background-color: white;padding-right: 0.2em;padding-left: 0.2em;position: relative;}#sk-container-id-4 div.sk-item {position: relative;z-index: 1;}#sk-container-id-4 div.sk-parallel {display: flex;align-items: stretch;justify-content: center;background-color: white;position: relative;}#sk-container-id-4 div.sk-item::before, #sk-container-id-4 div.sk-parallel-item::before {content: \"\";position: absolute;border-left: 1px solid gray;box-sizing: border-box;top: 0;bottom: 0;left: 50%;z-index: -1;}#sk-container-id-4 div.sk-parallel-item {display: flex;flex-direction: column;z-index: 1;position: relative;background-color: white;}#sk-container-id-4 div.sk-parallel-item:first-child::after {align-self: flex-end;width: 50%;}#sk-container-id-4 div.sk-parallel-item:last-child::after {align-self: flex-start;width: 50%;}#sk-container-id-4 div.sk-parallel-item:only-child::after {width: 0;}#sk-container-id-4 div.sk-dashed-wrapped {border: 1px dashed gray;margin: 0 0.4em 0.5em 0.4em;box-sizing: border-box;padding-bottom: 0.4em;background-color: white;}#sk-container-id-4 div.sk-label label {font-family: monospace;font-weight: bold;display: inline-block;line-height: 1.2em;}#sk-container-id-4 div.sk-label-container {text-align: center;}#sk-container-id-4 div.sk-container {/* jupyter's `normalize.less` sets `[hidden] { display: none; }` but bootstrap.min.css set `[hidden] { display: none !important; }` so we also need the `!important` here to be able to override the default hidden behavior on the sphinx rendered scikit-learn.org. See: https://github.com/scikit-learn/scikit-learn/issues/21755 */display: inline-block !important;position: relative;}#sk-container-id-4 div.sk-text-repr-fallback {display: none;}</style><div id=\"sk-container-id-4\" class=\"sk-top-container\"><div class=\"sk-text-repr-fallback\"><pre>RandomForestRegressor(n_estimators=30, random_state=42)</pre><b>In a Jupyter environment, please rerun this cell to show the HTML representation or trust the notebook. <br />On GitHub, the HTML representation is unable to render, please try loading this page with nbviewer.org.</b></div><div class=\"sk-container\" hidden><div class=\"sk-item\"><div class=\"sk-estimator sk-toggleable\"><input class=\"sk-toggleable__control sk-hidden--visually\" id=\"sk-estimator-id-4\" type=\"checkbox\" checked><label for=\"sk-estimator-id-4\" class=\"sk-toggleable__label sk-toggleable__label-arrow\">RandomForestRegressor</label><div class=\"sk-toggleable__content\"><pre>RandomForestRegressor(n_estimators=30, random_state=42)</pre></div></div></div></div></div>"
      ],
      "text/plain": [
       "RandomForestRegressor(n_estimators=30, random_state=42)"
      ]
     },
     "execution_count": 66,
     "metadata": {},
     "output_type": "execute_result"
    }
   ],
   "source": [
    "# We train once again\n",
    "model = RandomForestRegressor(n_estimators=30, random_state=42)\n",
    "model.fit(X_train, y_train)"
   ]
  },
  {
   "cell_type": "code",
   "execution_count": 67,
   "id": "f18a56ab",
   "metadata": {},
   "outputs": [
    {
     "name": "stdout",
     "output_type": "stream",
     "text": [
      "MSE: 64018728.206440926\n",
      "RMSLE: 0.23763376129279237\n",
      "R2 score: 0.8816518462749268\n"
     ]
    }
   ],
   "source": [
    "# And measure the performance\n",
    "y_true = y_valid\n",
    "y_pred = model.predict(X_valid)\n",
    "\n",
    "print('MSE:', sklearn.metrics.mean_squared_error(y_true, y_pred, squared=True))\n",
    "print('RMSLE:', np.sqrt(mean_squared_log_error(y_true,y_pred)))\n",
    "print('R2 score:', r2_score(y_true,y_pred))"
   ]
  },
  {
   "cell_type": "markdown",
   "id": "b5206226",
   "metadata": {},
   "source": [
    "The performance is not much worse and it simplifies further use of the \n",
    "So the final model is based on params: 'ProductSize', 'YearMade', 'fiBaseModel', 'fiSecondaryDesc', 'SaleYear', 'fiProductClassDesc'"
   ]
  },
  {
   "cell_type": "code",
   "execution_count": 97,
   "id": "d3f6ce95",
   "metadata": {},
   "outputs": [],
   "source": [
    "# Let's dump the model as a pickle pile\n",
    "a_file = open(\"model.pkl\", \"wb\")\n",
    "pickle.dump(model, a_file)\n",
    "a_file.close()"
   ]
  },
  {
   "cell_type": "markdown",
   "id": "78efdbb8",
   "metadata": {},
   "source": [
    "### Make predictions on user data"
   ]
  },
  {
   "cell_type": "code",
   "execution_count": 93,
   "id": "8cab87e5",
   "metadata": {
    "scrolled": true
   },
   "outputs": [
    {
     "data": {
      "text/html": [
       "<div>\n",
       "<style scoped>\n",
       "    .dataframe tbody tr th:only-of-type {\n",
       "        vertical-align: middle;\n",
       "    }\n",
       "\n",
       "    .dataframe tbody tr th {\n",
       "        vertical-align: top;\n",
       "    }\n",
       "\n",
       "    .dataframe thead th {\n",
       "        text-align: right;\n",
       "    }\n",
       "</style>\n",
       "<table border=\"1\" class=\"dataframe\">\n",
       "  <thead>\n",
       "    <tr style=\"text-align: right;\">\n",
       "      <th></th>\n",
       "      <th>ProductSize</th>\n",
       "      <th>YearMade</th>\n",
       "      <th>fiBaseModel</th>\n",
       "      <th>fiSecondaryDesc</th>\n",
       "      <th>SaleYear</th>\n",
       "      <th>fiProductClassDesc</th>\n",
       "    </tr>\n",
       "  </thead>\n",
       "  <tbody>\n",
       "    <tr>\n",
       "      <th>0</th>\n",
       "      <td>0</td>\n",
       "      <td>1990</td>\n",
       "      <td>100</td>\n",
       "      <td>0</td>\n",
       "      <td>2000</td>\n",
       "      <td>30</td>\n",
       "    </tr>\n",
       "  </tbody>\n",
       "</table>\n",
       "</div>"
      ],
      "text/plain": [
       "   ProductSize  YearMade  fiBaseModel  fiSecondaryDesc  SaleYear  \\\n",
       "0            0      1990          100                0      2000   \n",
       "\n",
       "   fiProductClassDesc  \n",
       "0                  30  "
      ]
     },
     "execution_count": 93,
     "metadata": {},
     "output_type": "execute_result"
    }
   ],
   "source": [
    "# Let's define some dummy data that a user can type\n",
    "ProductSize = 0\n",
    "YearMade = 1990\n",
    "fiBaseModel = 100\n",
    "fiSecondaryDesc = 0\n",
    "SaleYear = 2000\n",
    "fiProductClassDesc = 30\n",
    "\n",
    "d = {\n",
    "    'ProductSize':ProductSize, \n",
    "    'YearMade':YearMade, \n",
    "    'fiBaseModel':fiBaseModel, \n",
    "    'fiSecondaryDesc':fiSecondaryDesc, \n",
    "    'SaleYear':SaleYear, \n",
    "    'fiProductClassDesc':fiProductClassDesc\n",
    "}\n",
    "\n",
    "df_test = pd.DataFrame(d, index=[0])\n",
    "df_test"
   ]
  },
  {
   "cell_type": "code",
   "execution_count": 94,
   "id": "cea90bb2",
   "metadata": {},
   "outputs": [
    {
     "data": {
      "text/plain": [
       "16991.54761904762"
      ]
     },
     "execution_count": 94,
     "metadata": {},
     "output_type": "execute_result"
    }
   ],
   "source": [
    "# The following is the price for given parameters\n",
    "y_test = model.predict(df_test)\n",
    "y_test[0]"
   ]
  },
  {
   "cell_type": "code",
   "execution_count": null,
   "id": "07bf7794",
   "metadata": {},
   "outputs": [],
   "source": [
    "# Next step is to get dictionary of categories so API can work"
   ]
  },
  {
   "cell_type": "code",
   "execution_count": null,
   "id": "ae72b49b",
   "metadata": {},
   "outputs": [],
   "source": []
  }
 ],
 "metadata": {
  "kernelspec": {
   "display_name": "Python 3 (ipykernel)",
   "language": "python",
   "name": "python3"
  },
  "language_info": {
   "codemirror_mode": {
    "name": "ipython",
    "version": 3
   },
   "file_extension": ".py",
   "mimetype": "text/x-python",
   "name": "python",
   "nbconvert_exporter": "python",
   "pygments_lexer": "ipython3",
   "version": "3.10.4"
  }
 },
 "nbformat": 4,
 "nbformat_minor": 5
}
